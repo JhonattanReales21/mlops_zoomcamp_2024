{
 "cells": [
  {
   "attachments": {},
   "cell_type": "markdown",
   "id": "0b56d53f",
   "metadata": {},
   "source": [
    "# Load data and packages"
   ]
  },
  {
   "cell_type": "code",
   "execution_count": 1,
   "id": "c8826230",
   "metadata": {},
   "outputs": [],
   "source": [
    "# !pip install pyarrow"
   ]
  },
  {
   "cell_type": "code",
   "execution_count": 2,
   "id": "41062d8a",
   "metadata": {},
   "outputs": [],
   "source": [
    "import pandas as pd\n",
    "import numpy as np"
   ]
  },
  {
   "cell_type": "code",
   "execution_count": 3,
   "id": "c984c564",
   "metadata": {},
   "outputs": [],
   "source": [
    "import pickle"
   ]
  },
  {
   "cell_type": "code",
   "execution_count": 4,
   "id": "4add538c",
   "metadata": {},
   "outputs": [],
   "source": [
    "import seaborn as sns\n",
    "import matplotlib.pyplot as plt"
   ]
  },
  {
   "cell_type": "code",
   "execution_count": 5,
   "id": "8b135c2b",
   "metadata": {},
   "outputs": [],
   "source": [
    "from sklearn.feature_extraction import DictVectorizer\n",
    "from sklearn.preprocessing import OneHotEncoder\n",
    "from sklearn.linear_model import LinearRegression\n",
    "from sklearn.linear_model import Lasso\n",
    "from sklearn.linear_model import Ridge\n",
    "\n",
    "from sklearn.metrics import mean_squared_error"
   ]
  },
  {
   "attachments": {},
   "cell_type": "markdown",
   "id": "79c63bd4",
   "metadata": {},
   "source": [
    "# Development"
   ]
  },
  {
   "attachments": {},
   "cell_type": "markdown",
   "id": "59ccfef5",
   "metadata": {},
   "source": [
    "## Q1 - Read the data for January. How many columns are there?"
   ]
  },
  {
   "cell_type": "code",
   "execution_count": null,
   "id": "59f39c2e",
   "metadata": {},
   "outputs": [],
   "source": [
    "df_january = pd.read_parquet('https://d37ci6vzurychx.cloudfront.net/trip-data/yellow_tripdata_2023-01.parquet')"
   ]
  },
  {
   "cell_type": "code",
   "execution_count": 7,
   "id": "2fba4aba",
   "metadata": {},
   "outputs": [
    {
     "name": "stdout",
     "output_type": "stream",
     "text": [
      "<class 'pandas.core.frame.DataFrame'>\n",
      "RangeIndex: 3066766 entries, 0 to 3066765\n",
      "Data columns (total 19 columns):\n",
      " #   Column                 Dtype         \n",
      "---  ------                 -----         \n",
      " 0   VendorID               int64         \n",
      " 1   tpep_pickup_datetime   datetime64[ns]\n",
      " 2   tpep_dropoff_datetime  datetime64[ns]\n",
      " 3   passenger_count        float64       \n",
      " 4   trip_distance          float64       \n",
      " 5   RatecodeID             float64       \n",
      " 6   store_and_fwd_flag     object        \n",
      " 7   PULocationID           int64         \n",
      " 8   DOLocationID           int64         \n",
      " 9   payment_type           int64         \n",
      " 10  fare_amount            float64       \n",
      " 11  extra                  float64       \n",
      " 12  mta_tax                float64       \n",
      " 13  tip_amount             float64       \n",
      " 14  tolls_amount           float64       \n",
      " 15  improvement_surcharge  float64       \n",
      " 16  total_amount           float64       \n",
      " 17  congestion_surcharge   float64       \n",
      " 18  airport_fee            float64       \n",
      "dtypes: datetime64[ns](2), float64(12), int64(4), object(1)\n",
      "memory usage: 444.6+ MB\n"
     ]
    }
   ],
   "source": [
    "df_january.info()"
   ]
  },
  {
   "cell_type": "code",
   "execution_count": 8,
   "id": "9dc654a9",
   "metadata": {},
   "outputs": [
    {
     "data": {
      "text/plain": [
       "(3066766, 19)"
      ]
     },
     "execution_count": 8,
     "metadata": {},
     "output_type": "execute_result"
    }
   ],
   "source": [
    "df_january.shape"
   ]
  },
  {
   "attachments": {},
   "cell_type": "markdown",
   "id": "cf735e20",
   "metadata": {},
   "source": [
    "Response: The january data has 19 columns"
   ]
  },
  {
   "attachments": {},
   "cell_type": "markdown",
   "id": "67b3aa23",
   "metadata": {},
   "source": [
    "## Q2 - What's the standard deviation of the trips duration in January?"
   ]
  },
  {
   "cell_type": "code",
   "execution_count": 9,
   "id": "59e93960",
   "metadata": {},
   "outputs": [],
   "source": [
    "df_january['duration'] = df_january.tpep_dropoff_datetime - df_january.tpep_pickup_datetime\n",
    "df_january['duration'] = df_january['duration'].apply(lambda x: round(x.total_seconds()/60,4))\n"
   ]
  },
  {
   "cell_type": "code",
   "execution_count": 10,
   "id": "e78d8ef6",
   "metadata": {},
   "outputs": [
    {
     "data": {
      "text/plain": [
       "42.59435126046297"
      ]
     },
     "execution_count": 10,
     "metadata": {},
     "output_type": "execute_result"
    }
   ],
   "source": [
    "df_january['duration'].std()"
   ]
  },
  {
   "attachments": {},
   "cell_type": "markdown",
   "id": "b74bfa91",
   "metadata": {},
   "source": [
    "Response = The standard deviation is aprox 42.59 minutes"
   ]
  },
  {
   "attachments": {},
   "cell_type": "markdown",
   "id": "2beb1e69",
   "metadata": {},
   "source": [
    "## Q3 - What fraction of the records left after you dropped the outliers?"
   ]
  },
  {
   "cell_type": "code",
   "execution_count": 11,
   "id": "c9683d33",
   "metadata": {},
   "outputs": [],
   "source": [
    "df_january_2 = df_january[(df_january[\"duration\"]>=1) & ((df_january[\"duration\"]<=60))]"
   ]
  },
  {
   "cell_type": "code",
   "execution_count": 12,
   "id": "1cd012c7",
   "metadata": {},
   "outputs": [
    {
     "name": "stdout",
     "output_type": "stream",
     "text": [
      "98.12%\n"
     ]
    }
   ],
   "source": [
    "print(f'{round((df_january_2.shape[0]/df_january.shape[0])*100,2)}%')"
   ]
  },
  {
   "attachments": {},
   "cell_type": "markdown",
   "id": "00979a47",
   "metadata": {},
   "source": [
    "Response: The 98% of the original observations left after dropout the outliers"
   ]
  },
  {
   "attachments": {},
   "cell_type": "markdown",
   "id": "74719743",
   "metadata": {},
   "source": [
    "## Q4 - One hot encoding - What's the dimensionality of this matrix (number of columns)?"
   ]
  },
  {
   "cell_type": "code",
   "execution_count": 13,
   "id": "eb3fc67f",
   "metadata": {},
   "outputs": [
    {
     "name": "stdout",
     "output_type": "stream",
     "text": [
      " The number of different pickup locations are: 255\n",
      " The number of different dropoff locations are: 260\n"
     ]
    }
   ],
   "source": [
    "print(f\" The number of different pickup locations are: {df_january_2['PULocationID'].nunique()}\")\n",
    "print(f\" The number of different dropoff locations are: {df_january_2['DOLocationID'].nunique()}\")"
   ]
  },
  {
   "cell_type": "code",
   "execution_count": 14,
   "id": "fdf53487",
   "metadata": {},
   "outputs": [
    {
     "name": "stderr",
     "output_type": "stream",
     "text": [
      "C:\\Users\\jhorea\\AppData\\Local\\Temp\\ipykernel_26932\\1859058989.py:1: SettingWithCopyWarning: \n",
      "A value is trying to be set on a copy of a slice from a DataFrame.\n",
      "Try using .loc[row_indexer,col_indexer] = value instead\n",
      "\n",
      "See the caveats in the documentation: https://pandas.pydata.org/pandas-docs/stable/user_guide/indexing.html#returning-a-view-versus-a-copy\n",
      "  df_january_2['PULocationID']=df_january_2['PULocationID'].astype(str)\n",
      "C:\\Users\\jhorea\\AppData\\Local\\Temp\\ipykernel_26932\\1859058989.py:2: SettingWithCopyWarning: \n",
      "A value is trying to be set on a copy of a slice from a DataFrame.\n",
      "Try using .loc[row_indexer,col_indexer] = value instead\n",
      "\n",
      "See the caveats in the documentation: https://pandas.pydata.org/pandas-docs/stable/user_guide/indexing.html#returning-a-view-versus-a-copy\n",
      "  df_january_2['DOLocationID']=df_january_2['DOLocationID'].astype(str)\n"
     ]
    }
   ],
   "source": [
    "df_january_2['PULocationID']=df_january_2['PULocationID'].astype(str)\n",
    "df_january_2['DOLocationID']=df_january_2['DOLocationID'].astype(str)"
   ]
  },
  {
   "cell_type": "code",
   "execution_count": 15,
   "id": "c71ed0a5",
   "metadata": {},
   "outputs": [],
   "source": [
    "X_train=df_january_2[['PULocationID','DOLocationID']]"
   ]
  },
  {
   "cell_type": "code",
   "execution_count": 16,
   "id": "58ecee23",
   "metadata": {},
   "outputs": [
    {
     "data": {
      "text/plain": [
       "PULocationID    0\n",
       "DOLocationID    0\n",
       "dtype: int64"
      ]
     },
     "execution_count": 16,
     "metadata": {},
     "output_type": "execute_result"
    }
   ],
   "source": [
    "X_train.isna().sum()"
   ]
  },
  {
   "cell_type": "code",
   "execution_count": 17,
   "id": "a02ee300",
   "metadata": {},
   "outputs": [],
   "source": [
    "enconder=OneHotEncoder(sparse_output=False,handle_unknown='ignore')\n",
    "enconder.fit(X_train)\n",
    "column_names=enconder.get_feature_names_out()"
   ]
  },
  {
   "cell_type": "code",
   "execution_count": 18,
   "id": "4831b326",
   "metadata": {},
   "outputs": [],
   "source": [
    "X_train = pd.DataFrame(enconder.transform(X_train),columns=column_names)"
   ]
  },
  {
   "cell_type": "code",
   "execution_count": 19,
   "id": "18f2355b",
   "metadata": {},
   "outputs": [
    {
     "data": {
      "text/html": [
       "<div>\n",
       "<style scoped>\n",
       "    .dataframe tbody tr th:only-of-type {\n",
       "        vertical-align: middle;\n",
       "    }\n",
       "\n",
       "    .dataframe tbody tr th {\n",
       "        vertical-align: top;\n",
       "    }\n",
       "\n",
       "    .dataframe thead th {\n",
       "        text-align: right;\n",
       "    }\n",
       "</style>\n",
       "<table border=\"1\" class=\"dataframe\">\n",
       "  <thead>\n",
       "    <tr style=\"text-align: right;\">\n",
       "      <th></th>\n",
       "      <th>PULocationID_1</th>\n",
       "      <th>PULocationID_10</th>\n",
       "      <th>PULocationID_100</th>\n",
       "      <th>PULocationID_101</th>\n",
       "      <th>PULocationID_102</th>\n",
       "      <th>PULocationID_106</th>\n",
       "      <th>PULocationID_107</th>\n",
       "      <th>PULocationID_108</th>\n",
       "      <th>PULocationID_109</th>\n",
       "      <th>PULocationID_11</th>\n",
       "      <th>...</th>\n",
       "      <th>DOLocationID_90</th>\n",
       "      <th>DOLocationID_91</th>\n",
       "      <th>DOLocationID_92</th>\n",
       "      <th>DOLocationID_93</th>\n",
       "      <th>DOLocationID_94</th>\n",
       "      <th>DOLocationID_95</th>\n",
       "      <th>DOLocationID_96</th>\n",
       "      <th>DOLocationID_97</th>\n",
       "      <th>DOLocationID_98</th>\n",
       "      <th>DOLocationID_99</th>\n",
       "    </tr>\n",
       "  </thead>\n",
       "  <tbody>\n",
       "    <tr>\n",
       "      <th>1932096</th>\n",
       "      <td>0.0</td>\n",
       "      <td>0.0</td>\n",
       "      <td>0.0</td>\n",
       "      <td>0.0</td>\n",
       "      <td>0.0</td>\n",
       "      <td>0.0</td>\n",
       "      <td>0.0</td>\n",
       "      <td>0.0</td>\n",
       "      <td>0.0</td>\n",
       "      <td>0.0</td>\n",
       "      <td>...</td>\n",
       "      <td>0.0</td>\n",
       "      <td>0.0</td>\n",
       "      <td>0.0</td>\n",
       "      <td>0.0</td>\n",
       "      <td>0.0</td>\n",
       "      <td>0.0</td>\n",
       "      <td>0.0</td>\n",
       "      <td>0.0</td>\n",
       "      <td>0.0</td>\n",
       "      <td>0.0</td>\n",
       "    </tr>\n",
       "    <tr>\n",
       "      <th>1724913</th>\n",
       "      <td>0.0</td>\n",
       "      <td>0.0</td>\n",
       "      <td>0.0</td>\n",
       "      <td>0.0</td>\n",
       "      <td>0.0</td>\n",
       "      <td>0.0</td>\n",
       "      <td>0.0</td>\n",
       "      <td>0.0</td>\n",
       "      <td>0.0</td>\n",
       "      <td>0.0</td>\n",
       "      <td>...</td>\n",
       "      <td>0.0</td>\n",
       "      <td>0.0</td>\n",
       "      <td>0.0</td>\n",
       "      <td>0.0</td>\n",
       "      <td>0.0</td>\n",
       "      <td>0.0</td>\n",
       "      <td>0.0</td>\n",
       "      <td>0.0</td>\n",
       "      <td>0.0</td>\n",
       "      <td>0.0</td>\n",
       "    </tr>\n",
       "  </tbody>\n",
       "</table>\n",
       "<p>2 rows × 515 columns</p>\n",
       "</div>"
      ],
      "text/plain": [
       "         PULocationID_1  PULocationID_10  PULocationID_100  PULocationID_101  \\\n",
       "1932096             0.0              0.0               0.0               0.0   \n",
       "1724913             0.0              0.0               0.0               0.0   \n",
       "\n",
       "         PULocationID_102  PULocationID_106  PULocationID_107  \\\n",
       "1932096               0.0               0.0               0.0   \n",
       "1724913               0.0               0.0               0.0   \n",
       "\n",
       "         PULocationID_108  PULocationID_109  PULocationID_11  ...  \\\n",
       "1932096               0.0               0.0              0.0  ...   \n",
       "1724913               0.0               0.0              0.0  ...   \n",
       "\n",
       "         DOLocationID_90  DOLocationID_91  DOLocationID_92  DOLocationID_93  \\\n",
       "1932096              0.0              0.0              0.0              0.0   \n",
       "1724913              0.0              0.0              0.0              0.0   \n",
       "\n",
       "         DOLocationID_94  DOLocationID_95  DOLocationID_96  DOLocationID_97  \\\n",
       "1932096              0.0              0.0              0.0              0.0   \n",
       "1724913              0.0              0.0              0.0              0.0   \n",
       "\n",
       "         DOLocationID_98  DOLocationID_99  \n",
       "1932096              0.0              0.0  \n",
       "1724913              0.0              0.0  \n",
       "\n",
       "[2 rows x 515 columns]"
      ]
     },
     "execution_count": 19,
     "metadata": {},
     "output_type": "execute_result"
    }
   ],
   "source": [
    "X_train.sample(2)"
   ]
  },
  {
   "cell_type": "code",
   "execution_count": 20,
   "id": "882d5d94",
   "metadata": {},
   "outputs": [
    {
     "data": {
      "text/plain": [
       "(3009173, 515)"
      ]
     },
     "execution_count": 20,
     "metadata": {},
     "output_type": "execute_result"
    }
   ],
   "source": [
    "X_train.shape"
   ]
  },
  {
   "attachments": {},
   "cell_type": "markdown",
   "id": "1806d33b",
   "metadata": {},
   "source": [
    "Response: The new dataframe has 515 columns"
   ]
  },
  {
   "attachments": {},
   "cell_type": "markdown",
   "id": "286755c5",
   "metadata": {},
   "source": [
    "## Q5 - Training a model - What's the RMSE on train?"
   ]
  },
  {
   "cell_type": "code",
   "execution_count": 21,
   "id": "fb05bb4b",
   "metadata": {},
   "outputs": [],
   "source": [
    "target='duration'\n",
    "y_train=df_january_2[target].values"
   ]
  },
  {
   "cell_type": "code",
   "execution_count": 22,
   "id": "ee1a847d",
   "metadata": {},
   "outputs": [],
   "source": [
    "del df_january\n",
    "del df_january_2\n",
    "# del enconder"
   ]
  },
  {
   "cell_type": "code",
   "execution_count": 23,
   "id": "e42980a8",
   "metadata": {},
   "outputs": [],
   "source": [
    "model=LinearRegression()"
   ]
  },
  {
   "cell_type": "code",
   "execution_count": 24,
   "id": "b4abed54",
   "metadata": {},
   "outputs": [
    {
     "data": {
      "text/html": [
       "<style>#sk-container-id-1 {color: black;background-color: white;}#sk-container-id-1 pre{padding: 0;}#sk-container-id-1 div.sk-toggleable {background-color: white;}#sk-container-id-1 label.sk-toggleable__label {cursor: pointer;display: block;width: 100%;margin-bottom: 0;padding: 0.3em;box-sizing: border-box;text-align: center;}#sk-container-id-1 label.sk-toggleable__label-arrow:before {content: \"▸\";float: left;margin-right: 0.25em;color: #696969;}#sk-container-id-1 label.sk-toggleable__label-arrow:hover:before {color: black;}#sk-container-id-1 div.sk-estimator:hover label.sk-toggleable__label-arrow:before {color: black;}#sk-container-id-1 div.sk-toggleable__content {max-height: 0;max-width: 0;overflow: hidden;text-align: left;background-color: #f0f8ff;}#sk-container-id-1 div.sk-toggleable__content pre {margin: 0.2em;color: black;border-radius: 0.25em;background-color: #f0f8ff;}#sk-container-id-1 input.sk-toggleable__control:checked~div.sk-toggleable__content {max-height: 200px;max-width: 100%;overflow: auto;}#sk-container-id-1 input.sk-toggleable__control:checked~label.sk-toggleable__label-arrow:before {content: \"▾\";}#sk-container-id-1 div.sk-estimator input.sk-toggleable__control:checked~label.sk-toggleable__label {background-color: #d4ebff;}#sk-container-id-1 div.sk-label input.sk-toggleable__control:checked~label.sk-toggleable__label {background-color: #d4ebff;}#sk-container-id-1 input.sk-hidden--visually {border: 0;clip: rect(1px 1px 1px 1px);clip: rect(1px, 1px, 1px, 1px);height: 1px;margin: -1px;overflow: hidden;padding: 0;position: absolute;width: 1px;}#sk-container-id-1 div.sk-estimator {font-family: monospace;background-color: #f0f8ff;border: 1px dotted black;border-radius: 0.25em;box-sizing: border-box;margin-bottom: 0.5em;}#sk-container-id-1 div.sk-estimator:hover {background-color: #d4ebff;}#sk-container-id-1 div.sk-parallel-item::after {content: \"\";width: 100%;border-bottom: 1px solid gray;flex-grow: 1;}#sk-container-id-1 div.sk-label:hover label.sk-toggleable__label {background-color: #d4ebff;}#sk-container-id-1 div.sk-serial::before {content: \"\";position: absolute;border-left: 1px solid gray;box-sizing: border-box;top: 0;bottom: 0;left: 50%;z-index: 0;}#sk-container-id-1 div.sk-serial {display: flex;flex-direction: column;align-items: center;background-color: white;padding-right: 0.2em;padding-left: 0.2em;position: relative;}#sk-container-id-1 div.sk-item {position: relative;z-index: 1;}#sk-container-id-1 div.sk-parallel {display: flex;align-items: stretch;justify-content: center;background-color: white;position: relative;}#sk-container-id-1 div.sk-item::before, #sk-container-id-1 div.sk-parallel-item::before {content: \"\";position: absolute;border-left: 1px solid gray;box-sizing: border-box;top: 0;bottom: 0;left: 50%;z-index: -1;}#sk-container-id-1 div.sk-parallel-item {display: flex;flex-direction: column;z-index: 1;position: relative;background-color: white;}#sk-container-id-1 div.sk-parallel-item:first-child::after {align-self: flex-end;width: 50%;}#sk-container-id-1 div.sk-parallel-item:last-child::after {align-self: flex-start;width: 50%;}#sk-container-id-1 div.sk-parallel-item:only-child::after {width: 0;}#sk-container-id-1 div.sk-dashed-wrapped {border: 1px dashed gray;margin: 0 0.4em 0.5em 0.4em;box-sizing: border-box;padding-bottom: 0.4em;background-color: white;}#sk-container-id-1 div.sk-label label {font-family: monospace;font-weight: bold;display: inline-block;line-height: 1.2em;}#sk-container-id-1 div.sk-label-container {text-align: center;}#sk-container-id-1 div.sk-container {/* jupyter's `normalize.less` sets `[hidden] { display: none; }` but bootstrap.min.css set `[hidden] { display: none !important; }` so we also need the `!important` here to be able to override the default hidden behavior on the sphinx rendered scikit-learn.org. See: https://github.com/scikit-learn/scikit-learn/issues/21755 */display: inline-block !important;position: relative;}#sk-container-id-1 div.sk-text-repr-fallback {display: none;}</style><div id=\"sk-container-id-1\" class=\"sk-top-container\"><div class=\"sk-text-repr-fallback\"><pre>LinearRegression()</pre><b>In a Jupyter environment, please rerun this cell to show the HTML representation or trust the notebook. <br />On GitHub, the HTML representation is unable to render, please try loading this page with nbviewer.org.</b></div><div class=\"sk-container\" hidden><div class=\"sk-item\"><div class=\"sk-estimator sk-toggleable\"><input class=\"sk-toggleable__control sk-hidden--visually\" id=\"sk-estimator-id-1\" type=\"checkbox\" checked><label for=\"sk-estimator-id-1\" class=\"sk-toggleable__label sk-toggleable__label-arrow\">LinearRegression</label><div class=\"sk-toggleable__content\"><pre>LinearRegression()</pre></div></div></div></div></div>"
      ],
      "text/plain": [
       "LinearRegression()"
      ]
     },
     "execution_count": 24,
     "metadata": {},
     "output_type": "execute_result"
    }
   ],
   "source": [
    "model.fit(X_train,y_train)"
   ]
  },
  {
   "cell_type": "code",
   "execution_count": 25,
   "id": "5295f9f2",
   "metadata": {},
   "outputs": [
    {
     "data": {
      "text/plain": [
       "7.649263610098949"
      ]
     },
     "execution_count": 25,
     "metadata": {},
     "output_type": "execute_result"
    }
   ],
   "source": [
    "mean_squared_error(y_train,model.predict(X_train))**(1/2)"
   ]
  },
  {
   "attachments": {},
   "cell_type": "markdown",
   "id": "0ada75e5",
   "metadata": {},
   "source": [
    "Response: The Root Mean Squared Error for the base model in the training dataset is aprox 7.65"
   ]
  },
  {
   "attachments": {},
   "cell_type": "markdown",
   "id": "e07464ae",
   "metadata": {},
   "source": [
    "## Q6 - Evaluating the model - What's the RMSE on validation?"
   ]
  },
  {
   "cell_type": "code",
   "execution_count": 26,
   "id": "e7e3c877",
   "metadata": {},
   "outputs": [],
   "source": [
    "del X_train\n",
    "del y_train"
   ]
  },
  {
   "cell_type": "code",
   "execution_count": 27,
   "id": "bca0a10c",
   "metadata": {},
   "outputs": [],
   "source": [
    "df_february = pd.read_parquet('https://d37ci6vzurychx.cloudfront.net/trip-data/yellow_tripdata_2023-02.parquet')"
   ]
  },
  {
   "cell_type": "code",
   "execution_count": 28,
   "id": "89d40849",
   "metadata": {},
   "outputs": [
    {
     "data": {
      "text/html": [
       "<div>\n",
       "<style scoped>\n",
       "    .dataframe tbody tr th:only-of-type {\n",
       "        vertical-align: middle;\n",
       "    }\n",
       "\n",
       "    .dataframe tbody tr th {\n",
       "        vertical-align: top;\n",
       "    }\n",
       "\n",
       "    .dataframe thead th {\n",
       "        text-align: right;\n",
       "    }\n",
       "</style>\n",
       "<table border=\"1\" class=\"dataframe\">\n",
       "  <thead>\n",
       "    <tr style=\"text-align: right;\">\n",
       "      <th></th>\n",
       "      <th>VendorID</th>\n",
       "      <th>tpep_pickup_datetime</th>\n",
       "      <th>tpep_dropoff_datetime</th>\n",
       "      <th>passenger_count</th>\n",
       "      <th>trip_distance</th>\n",
       "      <th>RatecodeID</th>\n",
       "      <th>store_and_fwd_flag</th>\n",
       "      <th>PULocationID</th>\n",
       "      <th>DOLocationID</th>\n",
       "      <th>payment_type</th>\n",
       "      <th>fare_amount</th>\n",
       "      <th>extra</th>\n",
       "      <th>mta_tax</th>\n",
       "      <th>tip_amount</th>\n",
       "      <th>tolls_amount</th>\n",
       "      <th>improvement_surcharge</th>\n",
       "      <th>total_amount</th>\n",
       "      <th>congestion_surcharge</th>\n",
       "      <th>Airport_fee</th>\n",
       "    </tr>\n",
       "  </thead>\n",
       "  <tbody>\n",
       "    <tr>\n",
       "      <th>2006398</th>\n",
       "      <td>2</td>\n",
       "      <td>2023-02-20 20:09:00</td>\n",
       "      <td>2023-02-20 20:13:02</td>\n",
       "      <td>2.0</td>\n",
       "      <td>0.96</td>\n",
       "      <td>1.0</td>\n",
       "      <td>N</td>\n",
       "      <td>236</td>\n",
       "      <td>237</td>\n",
       "      <td>1</td>\n",
       "      <td>6.5</td>\n",
       "      <td>1.0</td>\n",
       "      <td>0.5</td>\n",
       "      <td>2.00</td>\n",
       "      <td>0.0</td>\n",
       "      <td>1.0</td>\n",
       "      <td>13.50</td>\n",
       "      <td>2.5</td>\n",
       "      <td>0.0</td>\n",
       "    </tr>\n",
       "    <tr>\n",
       "      <th>2541581</th>\n",
       "      <td>2</td>\n",
       "      <td>2023-02-25 21:31:35</td>\n",
       "      <td>2023-02-25 21:48:21</td>\n",
       "      <td>2.0</td>\n",
       "      <td>4.16</td>\n",
       "      <td>1.0</td>\n",
       "      <td>N</td>\n",
       "      <td>107</td>\n",
       "      <td>87</td>\n",
       "      <td>1</td>\n",
       "      <td>21.2</td>\n",
       "      <td>1.0</td>\n",
       "      <td>0.5</td>\n",
       "      <td>6.55</td>\n",
       "      <td>0.0</td>\n",
       "      <td>1.0</td>\n",
       "      <td>32.75</td>\n",
       "      <td>2.5</td>\n",
       "      <td>0.0</td>\n",
       "    </tr>\n",
       "    <tr>\n",
       "      <th>1412067</th>\n",
       "      <td>1</td>\n",
       "      <td>2023-02-14 21:39:55</td>\n",
       "      <td>2023-02-14 21:51:48</td>\n",
       "      <td>1.0</td>\n",
       "      <td>1.90</td>\n",
       "      <td>1.0</td>\n",
       "      <td>N</td>\n",
       "      <td>162</td>\n",
       "      <td>234</td>\n",
       "      <td>1</td>\n",
       "      <td>11.4</td>\n",
       "      <td>3.5</td>\n",
       "      <td>0.5</td>\n",
       "      <td>1.60</td>\n",
       "      <td>0.0</td>\n",
       "      <td>1.0</td>\n",
       "      <td>18.00</td>\n",
       "      <td>2.5</td>\n",
       "      <td>0.0</td>\n",
       "    </tr>\n",
       "    <tr>\n",
       "      <th>2513056</th>\n",
       "      <td>1</td>\n",
       "      <td>2023-02-25 16:41:58</td>\n",
       "      <td>2023-02-25 16:48:19</td>\n",
       "      <td>0.0</td>\n",
       "      <td>1.20</td>\n",
       "      <td>1.0</td>\n",
       "      <td>N</td>\n",
       "      <td>43</td>\n",
       "      <td>238</td>\n",
       "      <td>1</td>\n",
       "      <td>9.3</td>\n",
       "      <td>2.5</td>\n",
       "      <td>0.5</td>\n",
       "      <td>2.25</td>\n",
       "      <td>0.0</td>\n",
       "      <td>1.0</td>\n",
       "      <td>15.55</td>\n",
       "      <td>2.5</td>\n",
       "      <td>0.0</td>\n",
       "    </tr>\n",
       "    <tr>\n",
       "      <th>993838</th>\n",
       "      <td>2</td>\n",
       "      <td>2023-02-10 19:03:13</td>\n",
       "      <td>2023-02-10 19:10:15</td>\n",
       "      <td>1.0</td>\n",
       "      <td>1.35</td>\n",
       "      <td>1.0</td>\n",
       "      <td>N</td>\n",
       "      <td>231</td>\n",
       "      <td>249</td>\n",
       "      <td>1</td>\n",
       "      <td>9.3</td>\n",
       "      <td>2.5</td>\n",
       "      <td>0.5</td>\n",
       "      <td>3.16</td>\n",
       "      <td>0.0</td>\n",
       "      <td>1.0</td>\n",
       "      <td>18.96</td>\n",
       "      <td>2.5</td>\n",
       "      <td>0.0</td>\n",
       "    </tr>\n",
       "  </tbody>\n",
       "</table>\n",
       "</div>"
      ],
      "text/plain": [
       "         VendorID tpep_pickup_datetime tpep_dropoff_datetime  passenger_count  \\\n",
       "2006398         2  2023-02-20 20:09:00   2023-02-20 20:13:02              2.0   \n",
       "2541581         2  2023-02-25 21:31:35   2023-02-25 21:48:21              2.0   \n",
       "1412067         1  2023-02-14 21:39:55   2023-02-14 21:51:48              1.0   \n",
       "2513056         1  2023-02-25 16:41:58   2023-02-25 16:48:19              0.0   \n",
       "993838          2  2023-02-10 19:03:13   2023-02-10 19:10:15              1.0   \n",
       "\n",
       "         trip_distance  RatecodeID store_and_fwd_flag  PULocationID  \\\n",
       "2006398           0.96         1.0                  N           236   \n",
       "2541581           4.16         1.0                  N           107   \n",
       "1412067           1.90         1.0                  N           162   \n",
       "2513056           1.20         1.0                  N            43   \n",
       "993838            1.35         1.0                  N           231   \n",
       "\n",
       "         DOLocationID  payment_type  fare_amount  extra  mta_tax  tip_amount  \\\n",
       "2006398           237             1          6.5    1.0      0.5        2.00   \n",
       "2541581            87             1         21.2    1.0      0.5        6.55   \n",
       "1412067           234             1         11.4    3.5      0.5        1.60   \n",
       "2513056           238             1          9.3    2.5      0.5        2.25   \n",
       "993838            249             1          9.3    2.5      0.5        3.16   \n",
       "\n",
       "         tolls_amount  improvement_surcharge  total_amount  \\\n",
       "2006398           0.0                    1.0         13.50   \n",
       "2541581           0.0                    1.0         32.75   \n",
       "1412067           0.0                    1.0         18.00   \n",
       "2513056           0.0                    1.0         15.55   \n",
       "993838            0.0                    1.0         18.96   \n",
       "\n",
       "         congestion_surcharge  Airport_fee  \n",
       "2006398                   2.5          0.0  \n",
       "2541581                   2.5          0.0  \n",
       "1412067                   2.5          0.0  \n",
       "2513056                   2.5          0.0  \n",
       "993838                    2.5          0.0  "
      ]
     },
     "execution_count": 28,
     "metadata": {},
     "output_type": "execute_result"
    }
   ],
   "source": [
    "df_february.reset_index(drop=True,inplace=True)\n",
    "df_february.sample(5)"
   ]
  },
  {
   "cell_type": "code",
   "execution_count": 29,
   "id": "27989901",
   "metadata": {},
   "outputs": [],
   "source": [
    "df_february['duration'] = df_february.tpep_dropoff_datetime - df_february.tpep_pickup_datetime\n",
    "df_february['duration'] = df_february['duration'].apply(lambda x: round(x.total_seconds()/60,4))\n",
    "df_february_2 = df_february[(df_february[\"duration\"]>=1) & ((df_february[\"duration\"]<=60))]\n",
    "\n",
    "del df_february\n",
    "\n",
    "df_february_2['PULocationID']=df_february_2['PULocationID'].astype(str)\n",
    "df_february_2['DOLocationID']=df_february_2['DOLocationID'].astype(str)\n",
    "X_val=df_february_2[['PULocationID','DOLocationID']]\n",
    "y_val=df_february_2[target]\n",
    "\n",
    "del df_february_2"
   ]
  },
  {
   "cell_type": "code",
   "execution_count": 30,
   "id": "64ea77d3",
   "metadata": {},
   "outputs": [],
   "source": [
    "X_val = pd.DataFrame(enconder.transform(X_val),columns=column_names)"
   ]
  },
  {
   "cell_type": "code",
   "execution_count": 31,
   "id": "1d5770fa",
   "metadata": {},
   "outputs": [
    {
     "data": {
      "text/html": [
       "<div>\n",
       "<style scoped>\n",
       "    .dataframe tbody tr th:only-of-type {\n",
       "        vertical-align: middle;\n",
       "    }\n",
       "\n",
       "    .dataframe tbody tr th {\n",
       "        vertical-align: top;\n",
       "    }\n",
       "\n",
       "    .dataframe thead th {\n",
       "        text-align: right;\n",
       "    }\n",
       "</style>\n",
       "<table border=\"1\" class=\"dataframe\">\n",
       "  <thead>\n",
       "    <tr style=\"text-align: right;\">\n",
       "      <th></th>\n",
       "      <th>PULocationID_1</th>\n",
       "      <th>PULocationID_10</th>\n",
       "      <th>PULocationID_100</th>\n",
       "      <th>PULocationID_101</th>\n",
       "      <th>PULocationID_102</th>\n",
       "      <th>PULocationID_106</th>\n",
       "      <th>PULocationID_107</th>\n",
       "      <th>PULocationID_108</th>\n",
       "      <th>PULocationID_109</th>\n",
       "      <th>PULocationID_11</th>\n",
       "      <th>...</th>\n",
       "      <th>DOLocationID_90</th>\n",
       "      <th>DOLocationID_91</th>\n",
       "      <th>DOLocationID_92</th>\n",
       "      <th>DOLocationID_93</th>\n",
       "      <th>DOLocationID_94</th>\n",
       "      <th>DOLocationID_95</th>\n",
       "      <th>DOLocationID_96</th>\n",
       "      <th>DOLocationID_97</th>\n",
       "      <th>DOLocationID_98</th>\n",
       "      <th>DOLocationID_99</th>\n",
       "    </tr>\n",
       "  </thead>\n",
       "  <tbody>\n",
       "    <tr>\n",
       "      <th>877623</th>\n",
       "      <td>0.0</td>\n",
       "      <td>0.0</td>\n",
       "      <td>0.0</td>\n",
       "      <td>0.0</td>\n",
       "      <td>0.0</td>\n",
       "      <td>0.0</td>\n",
       "      <td>0.0</td>\n",
       "      <td>0.0</td>\n",
       "      <td>0.0</td>\n",
       "      <td>0.0</td>\n",
       "      <td>...</td>\n",
       "      <td>0.0</td>\n",
       "      <td>0.0</td>\n",
       "      <td>0.0</td>\n",
       "      <td>0.0</td>\n",
       "      <td>0.0</td>\n",
       "      <td>0.0</td>\n",
       "      <td>0.0</td>\n",
       "      <td>0.0</td>\n",
       "      <td>0.0</td>\n",
       "      <td>0.0</td>\n",
       "    </tr>\n",
       "    <tr>\n",
       "      <th>1975743</th>\n",
       "      <td>0.0</td>\n",
       "      <td>0.0</td>\n",
       "      <td>0.0</td>\n",
       "      <td>0.0</td>\n",
       "      <td>0.0</td>\n",
       "      <td>0.0</td>\n",
       "      <td>0.0</td>\n",
       "      <td>0.0</td>\n",
       "      <td>0.0</td>\n",
       "      <td>0.0</td>\n",
       "      <td>...</td>\n",
       "      <td>0.0</td>\n",
       "      <td>0.0</td>\n",
       "      <td>0.0</td>\n",
       "      <td>0.0</td>\n",
       "      <td>0.0</td>\n",
       "      <td>0.0</td>\n",
       "      <td>0.0</td>\n",
       "      <td>0.0</td>\n",
       "      <td>0.0</td>\n",
       "      <td>0.0</td>\n",
       "    </tr>\n",
       "  </tbody>\n",
       "</table>\n",
       "<p>2 rows × 515 columns</p>\n",
       "</div>"
      ],
      "text/plain": [
       "         PULocationID_1  PULocationID_10  PULocationID_100  PULocationID_101  \\\n",
       "877623              0.0              0.0               0.0               0.0   \n",
       "1975743             0.0              0.0               0.0               0.0   \n",
       "\n",
       "         PULocationID_102  PULocationID_106  PULocationID_107  \\\n",
       "877623                0.0               0.0               0.0   \n",
       "1975743               0.0               0.0               0.0   \n",
       "\n",
       "         PULocationID_108  PULocationID_109  PULocationID_11  ...  \\\n",
       "877623                0.0               0.0              0.0  ...   \n",
       "1975743               0.0               0.0              0.0  ...   \n",
       "\n",
       "         DOLocationID_90  DOLocationID_91  DOLocationID_92  DOLocationID_93  \\\n",
       "877623               0.0              0.0              0.0              0.0   \n",
       "1975743              0.0              0.0              0.0              0.0   \n",
       "\n",
       "         DOLocationID_94  DOLocationID_95  DOLocationID_96  DOLocationID_97  \\\n",
       "877623               0.0              0.0              0.0              0.0   \n",
       "1975743              0.0              0.0              0.0              0.0   \n",
       "\n",
       "         DOLocationID_98  DOLocationID_99  \n",
       "877623               0.0              0.0  \n",
       "1975743              0.0              0.0  \n",
       "\n",
       "[2 rows x 515 columns]"
      ]
     },
     "execution_count": 31,
     "metadata": {},
     "output_type": "execute_result"
    }
   ],
   "source": [
    "X_val.sample(2)"
   ]
  },
  {
   "cell_type": "code",
   "execution_count": 32,
   "id": "4fab2342",
   "metadata": {},
   "outputs": [
    {
     "data": {
      "text/plain": [
       "1731895    1.0\n",
       "2810450    1.0\n",
       "1588449    1.0\n",
       "2496332    1.0\n",
       "2317750    1.0\n",
       "1731894    1.0\n",
       "2111951    1.0\n",
       "1545373    1.0\n",
       "1903962    2.0\n",
       "1903963    2.0\n",
       "dtype: float64"
      ]
     },
     "execution_count": 32,
     "metadata": {},
     "output_type": "execute_result"
    }
   ],
   "source": [
    "X_val.sum(axis=1).sort_values()[0:10]"
   ]
  },
  {
   "attachments": {},
   "cell_type": "markdown",
   "id": "00bdc521",
   "metadata": {},
   "source": [
    "There are some observations in february that dont have a known combination of pickup and drop-off location.  \n",
    "Due to this, this observations could corrupt the prediction of the model.  \n",
    "I will remove those observations (Aprox 8 observations) from input (X_val) and y_val."
   ]
  },
  {
   "cell_type": "code",
   "execution_count": 39,
   "id": "abb69857",
   "metadata": {},
   "outputs": [],
   "source": [
    "row_sum = X_val.sum(axis=1)\n",
    "id_obs = X_val[row_sum == 1].index\n",
    "\n",
    "X_val_ = X_val[row_sum == 2]\n",
    "\n",
    "#  To gather the y_val taking in consideration only the valid observations\n",
    "mask=np.where(y_val.index.isin(id_obs),False,True)\n",
    "y_val_=y_val[mask]\n",
    "\n",
    "del y_val\n",
    "del X_val\n",
    "del row_sum\n",
    "del id_obs\n",
    "del mask\n"
   ]
  },
  {
   "cell_type": "code",
   "execution_count": 41,
   "id": "4cee8747",
   "metadata": {},
   "outputs": [
    {
     "data": {
      "text/plain": [
       "8.240261636800494"
      ]
     },
     "execution_count": 41,
     "metadata": {},
     "output_type": "execute_result"
    }
   ],
   "source": [
    "mean_squared_error(y_val_,model.predict(X_val_))**(1/2)"
   ]
  },
  {
   "attachments": {},
   "cell_type": "markdown",
   "id": "88d61488",
   "metadata": {},
   "source": [
    "Response: The RMSE on validation dataset is aprox 8.24. So, the closest option in homework is 7.81"
   ]
  },
  {
   "cell_type": "code",
   "execution_count": 42,
   "id": "052300c0",
   "metadata": {},
   "outputs": [],
   "source": [
    "del model\n",
    "del enconder\n",
    "del X_val_\n",
    "del y_val_"
   ]
  },
  {
   "attachments": {},
   "cell_type": "markdown",
   "id": "196a53dc",
   "metadata": {},
   "source": [
    "## Q6 - Second way"
   ]
  },
  {
   "attachments": {},
   "cell_type": "markdown",
   "id": "40bebaa1",
   "metadata": {},
   "source": [
    "My 2th way to develop this point is training a linear regression model with regularization , a Lasso model.  \n",
    "I figure out that the coefficients of the base LR model are too high, and this could be improductive.  \n",
    "\n",
    "By this way, i should not to drop the observations with unknown combinations of pickup-dropoff location in te validation dataset."
   ]
  },
  {
   "cell_type": "code",
   "execution_count": null,
   "id": "48a54bb8",
   "metadata": {},
   "outputs": [],
   "source": [
    "df_january = pd.read_parquet('https://d37ci6vzurychx.cloudfront.net/trip-data/yellow_tripdata_2023-01.parquet')\n",
    "\n",
    "df_january['duration'] = df_january.tpep_dropoff_datetime - df_january.tpep_pickup_datetime\n",
    "df_january['duration'] = df_january['duration'].apply(lambda x: round(x.total_seconds()/60,4))\n",
    "\n",
    "df_january = df_january[(df_january[\"duration\"]>=1) & ((df_january[\"duration\"]<=60))]\n",
    "\n",
    "df_january['PULocationID']=df_january['PULocationID'].astype(str)\n",
    "df_january['DOLocationID']=df_january['DOLocationID'].astype(str)\n",
    "\n",
    "X_train=df_january[['PULocationID','DOLocationID']]\n",
    "\n",
    "enconder=OneHotEncoder(sparse_output=False,handle_unknown='ignore')\n",
    "enconder.fit(X_train)\n",
    "column_names=enconder.get_feature_names_out()\n",
    "\n",
    "X_train = pd.DataFrame(enconder.transform(X_train),columns=column_names)\n",
    "\n",
    "target='duration'\n",
    "y_train=df_january[target].values\n",
    "\n",
    "del df_january\n",
    "\n",
    "model_2=Lasso(alpha=0.01)\n",
    "\n",
    "model_2.fit(X_train,y_train)\n",
    "\n",
    "print(model_2.coef_.min())\n",
    "print(model_2.coef_.max())"
   ]
  },
  {
   "cell_type": "code",
   "execution_count": 48,
   "id": "ef6bb071",
   "metadata": {},
   "outputs": [
    {
     "data": {
      "text/plain": [
       "8.015527513819556"
      ]
     },
     "execution_count": 48,
     "metadata": {},
     "output_type": "execute_result"
    }
   ],
   "source": [
    "mean_squared_error(y_train,model_2.predict(X_train))**(1/2)"
   ]
  },
  {
   "cell_type": "code",
   "execution_count": 55,
   "id": "616e83c4",
   "metadata": {},
   "outputs": [],
   "source": [
    "del X_train\n",
    "del y_train"
   ]
  },
  {
   "cell_type": "code",
   "execution_count": 56,
   "id": "16017922",
   "metadata": {},
   "outputs": [],
   "source": [
    "df_february = pd.read_parquet('https://d37ci6vzurychx.cloudfront.net/trip-data/yellow_tripdata_2023-02.parquet')\n",
    "\n",
    "df_february['duration'] = df_february.tpep_dropoff_datetime - df_february.tpep_pickup_datetime\n",
    "df_february['duration'] = df_february['duration'].apply(lambda x: round(x.total_seconds()/60,4))\n",
    "\n",
    "df_february = df_february[(df_february[\"duration\"]>=1) & ((df_february[\"duration\"]<=60))]\n",
    "\n",
    "df_february['PULocationID']=df_february['PULocationID'].astype(str)\n",
    "df_february['DOLocationID']=df_february['DOLocationID'].astype(str)\n",
    "\n",
    "X_val=df_february[['PULocationID','DOLocationID']]\n",
    "\n",
    "X_val = pd.DataFrame(enconder.transform(X_val),columns=column_names)\n",
    "\n",
    "target='duration'\n",
    "y_val=df_february[target].values\n",
    "\n",
    "del df_february"
   ]
  },
  {
   "cell_type": "code",
   "execution_count": 64,
   "id": "2725c362",
   "metadata": {},
   "outputs": [
    {
     "data": {
      "text/plain": [
       "8.138096225738082"
      ]
     },
     "execution_count": 64,
     "metadata": {},
     "output_type": "execute_result"
    }
   ],
   "source": [
    "mean_squared_error(y_val,model_2.predict(X_val),squared=False)"
   ]
  },
  {
   "attachments": {},
   "cell_type": "markdown",
   "id": "161b7b0a",
   "metadata": {},
   "source": [
    "response: By this way, i reach a similar result."
   ]
  },
  {
   "attachments": {},
   "cell_type": "markdown",
   "id": "6cf2bf76",
   "metadata": {},
   "source": [
    "# Code from original notebook"
   ]
  },
  {
   "cell_type": "code",
   "execution_count": null,
   "id": "2d681c0d",
   "metadata": {},
   "outputs": [],
   "source": [
    "# train_dicts = df[categorical + numerical].to_dict(orient='records')\n",
    "\n",
    "# dv = DictVectorizer()\n",
    "# X_train = dv.fit_transform(train_dicts)\n",
    "\n",
    "# target = 'duration'\n",
    "# y_train = df[target].values\n",
    "\n",
    "# lr = LinearRegression()\n",
    "# lr.fit(X_train, y_train)\n",
    "\n",
    "# y_pred = lr.predict(X_train)\n",
    "\n",
    "# mean_squared_error(y_train, y_pred, squared=False)"
   ]
  },
  {
   "cell_type": "code",
   "execution_count": null,
   "id": "b134c97b",
   "metadata": {},
   "outputs": [],
   "source": [
    "# sns.distplot(y_pred, label='prediction')\n",
    "# sns.distplot(y_train, label='actual')\n",
    "\n",
    "# plt.legend()"
   ]
  },
  {
   "cell_type": "code",
   "execution_count": null,
   "id": "f9e6479e",
   "metadata": {},
   "outputs": [],
   "source": [
    "# def read_dataframe(filename):\n",
    "#     if filename.endswith('.csv'):\n",
    "#         df = pd.read_csv(filename)\n",
    "\n",
    "#         df.lpep_dropoff_datetime = pd.to_datetime(df.lpep_dropoff_datetime)\n",
    "#         df.lpep_pickup_datetime = pd.to_datetime(df.lpep_pickup_datetime)\n",
    "#     elif filename.endswith('.parquet'):\n",
    "#         df = pd.read_parquet(filename)\n",
    "\n",
    "#     df['duration'] = df.lpep_dropoff_datetime - df.lpep_pickup_datetime\n",
    "#     df.duration = df.duration.apply(lambda td: td.total_seconds() / 60)\n",
    "\n",
    "#     df = df[(df.duration >= 1) & (df.duration <= 60)]\n",
    "\n",
    "#     categorical = ['PULocationID', 'DOLocationID']\n",
    "#     df[categorical] = df[categorical].astype(str)\n",
    "    \n",
    "#     return df"
   ]
  },
  {
   "cell_type": "code",
   "execution_count": null,
   "id": "8029eba0",
   "metadata": {},
   "outputs": [],
   "source": [
    "# df_train = read_dataframe('./data/green_tripdata_2021-01.parquet')\n",
    "# df_val = read_dataframe('./data/green_tripdata_2021-02.parquet')"
   ]
  },
  {
   "cell_type": "code",
   "execution_count": null,
   "id": "f6f2f0eb",
   "metadata": {},
   "outputs": [],
   "source": [
    "# len(df_train), len(df_val)"
   ]
  },
  {
   "cell_type": "code",
   "execution_count": null,
   "id": "951d51ef",
   "metadata": {},
   "outputs": [],
   "source": [
    "# df_train['PU_DO'] = df_train['PULocationID'] + '_' + df_train['DOLocationID']\n",
    "# df_val['PU_DO'] = df_val['PULocationID'] + '_' + df_val['DOLocationID']"
   ]
  },
  {
   "cell_type": "code",
   "execution_count": null,
   "id": "c5cbfc25",
   "metadata": {},
   "outputs": [],
   "source": [
    "# categorical = ['PU_DO'] #'PULocationID', 'DOLocationID']\n",
    "# numerical = ['trip_distance']\n",
    "\n",
    "# dv = DictVectorizer()\n",
    "\n",
    "# train_dicts = df_train[categorical + numerical].to_dict(orient='records')\n",
    "# X_train = dv.fit_transform(train_dicts)\n",
    "\n",
    "# val_dicts = df_val[categorical + numerical].to_dict(orient='records')\n",
    "# X_val = dv.transform(val_dicts)"
   ]
  },
  {
   "cell_type": "code",
   "execution_count": null,
   "id": "1e9fb68b",
   "metadata": {},
   "outputs": [],
   "source": [
    "# target = 'duration'\n",
    "# y_train = df_train[target].values\n",
    "# y_val = df_val[target].values"
   ]
  },
  {
   "cell_type": "code",
   "execution_count": null,
   "id": "429e2394",
   "metadata": {},
   "outputs": [],
   "source": [
    "# lr = LinearRegression()\n",
    "# lr.fit(X_train, y_train)\n",
    "\n",
    "# y_pred = lr.predict(X_val)\n",
    "\n",
    "# mean_squared_error(y_val, y_pred, squared=False)"
   ]
  },
  {
   "cell_type": "code",
   "execution_count": null,
   "id": "22bf6f8b",
   "metadata": {},
   "outputs": [],
   "source": [
    "# with open('models/lin_reg.bin', 'wb') as f_out:\n",
    "#     pickle.dump((dv, lr), f_out)"
   ]
  },
  {
   "cell_type": "code",
   "execution_count": null,
   "id": "a4999b94",
   "metadata": {},
   "outputs": [],
   "source": [
    "# lr = Lasso(0.01)\n",
    "# lr.fit(X_train, y_train)\n",
    "\n",
    "# y_pred = lr.predict(X_val)\n",
    "\n",
    "# mean_squared_error(y_val, y_pred, squared=False)"
   ]
  }
 ],
 "metadata": {
  "kernelspec": {
   "display_name": "Python 3 (ipykernel)",
   "language": "python",
   "name": "python3"
  },
  "language_info": {
   "codemirror_mode": {
    "name": "ipython",
    "version": 3
   },
   "file_extension": ".py",
   "mimetype": "text/x-python",
   "name": "python",
   "nbconvert_exporter": "python",
   "pygments_lexer": "ipython3",
   "version": "3.10.9"
  }
 },
 "nbformat": 4,
 "nbformat_minor": 5
}
